{
 "cells": [
  {
   "cell_type": "code",
   "execution_count": 1,
   "id": "0b0b38ca",
   "metadata": {},
   "outputs": [],
   "source": [
    "import cv2"
   ]
  },
  {
   "cell_type": "code",
   "execution_count": 2,
   "id": "e7d9f7ba",
   "metadata": {},
   "outputs": [],
   "source": [
    "img = cv2.imread('images/example1.jpg')"
   ]
  },
  {
   "cell_type": "markdown",
   "id": "04983efa",
   "metadata": {},
   "source": [
    "# Color codes\n",
    "\n",
    "*-1: cv2.IMREAD_COLOR: Loads a color image. Any transparency of image will be neglected. Its the default flag.\n",
    "\n",
    "*0: cv2.IMREAD_GRAYSCALE: Loads an image in grayscale model\n",
    "\n",
    "*1: cv2.IMREAD_UNCHANGED: Loads an image as such including alpha channel"
   ]
  },
  {
   "cell_type": "code",
   "execution_count": 3,
   "id": "116cd37e",
   "metadata": {},
   "outputs": [],
   "source": [
    "cv2.imshow('Image', img)\n",
    "cv2.waitKey(0)\n",
    "cv2.destroyAllWindows()"
   ]
  },
  {
   "cell_type": "markdown",
   "id": "56f3d95c",
   "metadata": {},
   "source": [
    "# Resize and rotate Image"
   ]
  },
  {
   "cell_type": "code",
   "execution_count": 6,
   "id": "e4d82557",
   "metadata": {},
   "outputs": [],
   "source": [
    "img = cv2.resize(img, (400, 400))"
   ]
  },
  {
   "cell_type": "code",
   "execution_count": 7,
   "id": "c2840598",
   "metadata": {},
   "outputs": [],
   "source": [
    "cv2.imshow('Image', img)\n",
    "cv2.waitKey(0)\n",
    "cv2.destroyAllWindows()"
   ]
  },
  {
   "cell_type": "code",
   "execution_count": 8,
   "id": "fb252cef",
   "metadata": {},
   "outputs": [],
   "source": [
    "# In case of wanting to resize based on percentage"
   ]
  },
  {
   "cell_type": "code",
   "execution_count": 9,
   "id": "8b127a44",
   "metadata": {},
   "outputs": [],
   "source": [
    "img = cv2.resize(img, (0, 0), fx = 2, fy=2) #This will duplicate the size of the image (fx/fy = x-axis/y-axis) and 2 means \"double\""
   ]
  },
  {
   "cell_type": "code",
   "execution_count": 10,
   "id": "d00b85c9",
   "metadata": {},
   "outputs": [],
   "source": [
    "cv2.imshow('Image', img)\n",
    "cv2.waitKey(0)\n",
    "cv2.destroyAllWindows()"
   ]
  },
  {
   "cell_type": "markdown",
   "id": "013b6693",
   "metadata": {},
   "source": [
    "# Rotate image"
   ]
  },
  {
   "cell_type": "code",
   "execution_count": 12,
   "id": "0f7d2f59",
   "metadata": {},
   "outputs": [],
   "source": [
    "img = cv2.rotate(img, cv2.ROTATE_90_CLOCKWISE)\n",
    "\n",
    "cv2.imshow('Image', img)\n",
    "cv2.waitKey(0)\n",
    "cv2.destroyAllWindows()"
   ]
  },
  {
   "cell_type": "markdown",
   "id": "a1eac3bc",
   "metadata": {},
   "source": [
    "# Save the modified image"
   ]
  },
  {
   "cell_type": "code",
   "execution_count": 14,
   "id": "9ab54479",
   "metadata": {},
   "outputs": [
    {
     "data": {
      "text/plain": [
       "True"
      ]
     },
     "execution_count": 14,
     "metadata": {},
     "output_type": "execute_result"
    }
   ],
   "source": [
    "cv2.imwrite('images/new_image.jpg', img)"
   ]
  }
 ],
 "metadata": {
  "kernelspec": {
   "display_name": "Python 3.9 (tensorflow)",
   "language": "python",
   "name": "tensorflow"
  },
  "language_info": {
   "codemirror_mode": {
    "name": "ipython",
    "version": 3
   },
   "file_extension": ".py",
   "mimetype": "text/x-python",
   "name": "python",
   "nbconvert_exporter": "python",
   "pygments_lexer": "ipython3",
   "version": "3.9.12"
  }
 },
 "nbformat": 4,
 "nbformat_minor": 5
}
