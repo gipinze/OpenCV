{
 "cells": [
  {
   "cell_type": "code",
   "execution_count": 2,
   "id": "e44a5361",
   "metadata": {},
   "outputs": [],
   "source": [
    "import cv2 as cv"
   ]
  },
  {
   "cell_type": "code",
   "execution_count": 2,
   "id": "bf808870",
   "metadata": {},
   "outputs": [
    {
     "name": "stdout",
     "output_type": "stream",
     "text": [
      "[[[ 42  92 218]\n",
      "  [ 36  86 212]\n",
      "  [ 35  85 211]\n",
      "  ...\n",
      "  [159 167 166]\n",
      "  [161 169 168]\n",
      "  [162 170 169]]\n",
      "\n",
      " [[ 40  90 216]\n",
      "  [ 38  88 214]\n",
      "  [ 36  86 212]\n",
      "  ...\n",
      "  [154 162 161]\n",
      "  [157 165 164]\n",
      "  [160 168 167]]\n",
      "\n",
      " [[ 37  87 213]\n",
      "  [ 38  88 214]\n",
      "  [ 36  86 212]\n",
      "  ...\n",
      "  [152 160 159]\n",
      "  [155 163 162]\n",
      "  [159 167 166]]\n",
      "\n",
      " ...\n",
      "\n",
      " [[  8   7   9]\n",
      "  [  8   7   9]\n",
      "  [  9   8  10]\n",
      "  ...\n",
      "  [ 13   8   5]\n",
      "  [ 10   5   2]\n",
      "  [  7   2   0]]\n",
      "\n",
      " [[  9   8  10]\n",
      "  [  9   8  10]\n",
      "  [  9   8  10]\n",
      "  ...\n",
      "  [ 11   6   3]\n",
      "  [ 10   5   2]\n",
      "  [  9   4   1]]\n",
      "\n",
      " [[ 10   9  11]\n",
      "  [  9   8  10]\n",
      "  [  9   8  10]\n",
      "  ...\n",
      "  [ 11   6   3]\n",
      "  [ 12   7   4]\n",
      "  [ 13   8   5]]]\n"
     ]
    }
   ],
   "source": [
    "img = cv.imread(\"images/example1.jpg\", -1)\n",
    "print(img)"
   ]
  },
  {
   "cell_type": "markdown",
   "id": "736fcf44",
   "metadata": {},
   "source": [
    "# Changing Pixel Colors"
   ]
  },
  {
   "cell_type": "code",
   "execution_count": 4,
   "id": "c7ffe66f",
   "metadata": {},
   "outputs": [],
   "source": [
    "import random"
   ]
  },
  {
   "cell_type": "code",
   "execution_count": 6,
   "id": "23c1102f",
   "metadata": {},
   "outputs": [],
   "source": [
    "for i in range (100):\n",
    "    for j in range(img.shape[1]):\n",
    "        img[i][j] = [random.randint(0, 255), random.randint(0, 255), random.randint(0, 255)] \n",
    "        # When randint - lowest value and highest value(0 and 255 ), which means that will randomize value from 0 to 255\n",
    "cv.imshow('Image', img)\n",
    "cv.waitKey()\n",
    "cv.destroyAllWindows()"
   ]
  },
  {
   "cell_type": "markdown",
   "id": "1e372380",
   "metadata": {},
   "source": [
    "# Copy and paste part of image into others"
   ]
  },
  {
   "cell_type": "code",
   "execution_count": 3,
   "id": "11dbbb9d",
   "metadata": {},
   "outputs": [],
   "source": [
    "img = cv.imread(\"images/example1.jpg\", -1)\n",
    "\n",
    "tag = img[500:700, 600:900] # 500 to 699 columns and 600 to 899 rows are going to be copied from IMG\n",
    "img[100:300, 600:900] = tag # The destination should be the same size as the cuted image before\n",
    "\n",
    "cv.imshow('Image', img)\n",
    "cv.waitKey()\n",
    "cv.destroyAllWindows()"
   ]
  },
  {
   "cell_type": "code",
   "execution_count": null,
   "id": "66a5fa6c",
   "metadata": {},
   "outputs": [],
   "source": []
  }
 ],
 "metadata": {
  "kernelspec": {
   "display_name": "Python 3.9 (tensorflow)",
   "language": "python",
   "name": "tensorflow"
  },
  "language_info": {
   "codemirror_mode": {
    "name": "ipython",
    "version": 3
   },
   "file_extension": ".py",
   "mimetype": "text/x-python",
   "name": "python",
   "nbconvert_exporter": "python",
   "pygments_lexer": "ipython3",
   "version": "3.9.12"
  }
 },
 "nbformat": 4,
 "nbformat_minor": 5
}
