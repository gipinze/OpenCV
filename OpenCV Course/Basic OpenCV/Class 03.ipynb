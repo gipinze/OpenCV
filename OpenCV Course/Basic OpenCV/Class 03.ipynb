{
 "cells": [
  {
   "cell_type": "code",
   "execution_count": 1,
   "id": "475a1df9",
   "metadata": {},
   "outputs": [],
   "source": [
    "import numpy as np"
   ]
  },
  {
   "cell_type": "code",
   "execution_count": 2,
   "id": "2b7ed736",
   "metadata": {},
   "outputs": [],
   "source": [
    "import cv2"
   ]
  },
  {
   "cell_type": "code",
   "execution_count": 3,
   "id": "74b4978d",
   "metadata": {},
   "outputs": [],
   "source": [
    "cap = cv2.VideoCapture(0) #If we want to use a video, instead of 0, we use the path of the video we want to analyze\n",
    "\n",
    "while True:\n",
    "    ret, frame = cap.read()\n",
    "    \n",
    "    cv2.imshow('frame', frame)\n",
    "    \n",
    "    k = cv2.waitKey(1) & 0xFF \n",
    "    if k == 27:\n",
    "        break\n",
    "        \n",
    "cap.release()\n",
    "cv2.destroyAllWindows()"
   ]
  },
  {
   "cell_type": "markdown",
   "id": "ab692831",
   "metadata": {},
   "source": [
    "# Mirroing video multiple times"
   ]
  },
  {
   "cell_type": "code",
   "execution_count": 4,
   "id": "9b22c0f6",
   "metadata": {},
   "outputs": [],
   "source": [
    "cap = cv2.VideoCapture(0) #If we want to use a video, instead of 0, we use the path of the video we want to analyze\n",
    "\n",
    "while True:\n",
    "    ret, frame = cap.read()\n",
    "    \n",
    "    width = int(cap.get(3)) #OpenCV documentation explains that 3 is width and 4 is height\n",
    "    height = int(cap.get(4))\n",
    "    \n",
    "    image = np.zeros(frame.shape, np.uint8) # Create an empty black canvas where the faces (videos) are going to be pasted\n",
    "    smaller_frame = cv2.resize(frame, (0, 0), fx=0.5, fy=0.5) #This will shrink the frame img to be able to fit 4 times\n",
    "    image[:height//2, :width//2] = smaller_frame\n",
    "    image[height//2:, :width//2] = smaller_frame\n",
    "    image[:height//2, width//2:] = smaller_frame\n",
    "    image[height//2:, width//2:] = smaller_frame\n",
    "    \n",
    "    cv2.imshow('frame', image)\n",
    "    \n",
    "    k = cv2.waitKey(1) & 0xFF \n",
    "    if k == 27:\n",
    "        break\n",
    "        \n",
    "cap.release()\n",
    "cv2.destroyAllWindows()"
   ]
  },
  {
   "cell_type": "markdown",
   "id": "06e63f1b",
   "metadata": {},
   "source": [
    "# Rotate the mirroed images"
   ]
  },
  {
   "cell_type": "code",
   "execution_count": 8,
   "id": "5fb5b682",
   "metadata": {},
   "outputs": [],
   "source": [
    "cap = cv2.VideoCapture(0) #If we want to use a video, instead of 0, we use the path of the video we want to analyze\n",
    "\n",
    "while True:\n",
    "    ret, frame = cap.read()\n",
    "    \n",
    "    width = int(cap.get(3)) #OpenCV documentation explains that 3 is width and 4 is height\n",
    "    height = int(cap.get(4))\n",
    "    \n",
    "    image = np.zeros(frame.shape, np.uint8) # Create an empty black canvas where the faces (videos) are going to be pasted\n",
    "    smaller_frame = cv2.resize(frame, (0, 0), fx=0.5, fy=0.5) #This will shrink the frame img to be able to fit 4 times\n",
    "    image[:height//2, :width//2] = cv2.rotate(smaller_frame, cv2.ROTATE_180)\n",
    "    image[height//2:, :width//2] = smaller_frame\n",
    "    image[:height//2, width//2:] = cv2.rotate(smaller_frame, cv2.ROTATE_180)\n",
    "    image[height//2:, width//2:] = smaller_frame\n",
    "    \n",
    "    cv2.imshow('frame', image)\n",
    "    \n",
    "    k = cv2.waitKey(1) & 0xFF \n",
    "    if k == 27:\n",
    "        break\n",
    "        \n",
    "cap.release()\n",
    "cv2.destroyAllWindows()"
   ]
  },
  {
   "cell_type": "code",
   "execution_count": null,
   "id": "a2fcc93b",
   "metadata": {},
   "outputs": [],
   "source": []
  }
 ],
 "metadata": {
  "kernelspec": {
   "display_name": "Python 3 (ipykernel)",
   "language": "python",
   "name": "python3"
  },
  "language_info": {
   "codemirror_mode": {
    "name": "ipython",
    "version": 3
   },
   "file_extension": ".py",
   "mimetype": "text/x-python",
   "name": "python",
   "nbconvert_exporter": "python",
   "pygments_lexer": "ipython3",
   "version": "3.9.12"
  }
 },
 "nbformat": 4,
 "nbformat_minor": 5
}
