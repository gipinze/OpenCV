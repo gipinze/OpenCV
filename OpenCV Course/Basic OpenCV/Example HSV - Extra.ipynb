{
 "cells": [
  {
   "cell_type": "code",
   "execution_count": null,
   "id": "8e3664b2",
   "metadata": {},
   "outputs": [],
   "source": [
    "import cv2\n",
    "import numpy as np\n",
    " \n",
    "def nothing(x):\n",
    "    pass\n",
    "\n",
    "# Open the camera\n",
    "cap = cv2.VideoCapture(0) \n",
    " \n",
    "# Create a window\n",
    "cv2.namedWindow('image')\n",
    " \n",
    "# create trackbars for color change\n",
    "cv2.createTrackbar('lowH','image',0,179,nothing)\n",
    "cv2.createTrackbar('highH','image',179,179,nothing)\n",
    " \n",
    "cv2.createTrackbar('lowS','image',0,255,nothing)\n",
    "cv2.createTrackbar('highS','image',255,255,nothing)\n",
    " \n",
    "cv2.createTrackbar('lowV','image',0,255,nothing)\n",
    "cv2.createTrackbar('highV','image',255,255,nothing)\n",
    " \n",
    "while(True):\n",
    "    ret, frame = cap.read()\n",
    " \n",
    "    # get current positions of the trackbars\n",
    "    ilowH = cv2.getTrackbarPos('lowH', 'image')\n",
    "    ihighH = cv2.getTrackbarPos('highH', 'image')\n",
    "    ilowS = cv2.getTrackbarPos('lowS', 'image')\n",
    "    ihighS = cv2.getTrackbarPos('highS', 'image')\n",
    "    ilowV = cv2.getTrackbarPos('lowV', 'image')\n",
    "    ihighV = cv2.getTrackbarPos('highV', 'image')\n",
    "    \n",
    "    # convert color to hsv because it is easy to track colors in this color model\n",
    "    hsv = cv2.cvtColor(frame, cv2.COLOR_BGR2HSV)\n",
    "    lower_hsv = np.array([ilowH, ilowS, ilowV])\n",
    "    higher_hsv = np.array([ihighH, ihighS, ihighV])\n",
    "    # Apply the cv2.inrange method to create a mask\n",
    "    mask = cv2.inRange(hsv, lower_hsv, higher_hsv)\n",
    "    # Apply the mask on the image to extract the original color\n",
    "    frame = cv2.bitwise_and(frame, frame, mask=mask)\n",
    "    cv2.imshow('image', frame)\n",
    "    # Press q to exit\n",
    "    if cv2.waitKey(1) & 0xFF == ord('q'):\n",
    "        break\n",
    "\n",
    "cap.release()\n",
    "cv2.destroyAllWindows()"
   ]
  },
  {
   "cell_type": "code",
   "execution_count": null,
   "id": "bb9e568e",
   "metadata": {},
   "outputs": [],
   "source": []
  }
 ],
 "metadata": {
  "kernelspec": {
   "display_name": "Python 3 (ipykernel)",
   "language": "python",
   "name": "python3"
  },
  "language_info": {
   "codemirror_mode": {
    "name": "ipython",
    "version": 3
   },
   "file_extension": ".py",
   "mimetype": "text/x-python",
   "name": "python",
   "nbconvert_exporter": "python",
   "pygments_lexer": "ipython3",
   "version": "3.9.12"
  }
 },
 "nbformat": 4,
 "nbformat_minor": 5
}
