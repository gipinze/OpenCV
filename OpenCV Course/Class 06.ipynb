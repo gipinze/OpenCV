{
 "cells": [
  {
   "cell_type": "markdown",
   "id": "cf63a554",
   "metadata": {},
   "source": [
    "# Corner Detection"
   ]
  },
  {
   "cell_type": "code",
   "execution_count": 6,
   "id": "7398d0ed",
   "metadata": {},
   "outputs": [],
   "source": [
    "import numpy as np\n",
    "import cv2\n",
    "\n",
    "img = cv2.imread('images/chessboard.png')\n",
    "\n",
    "img = cv2.resize(img, (0, 0), fx=0.75, fy=0.75)\n",
    "gray = cv2.cvtColor(img, cv2.COLOR_BGR2GRAY)\n",
    "\n",
    "\n",
    "corners = cv2.goodFeaturesToTrack(gray, 100, 0.01, 10) # This will show 100 corners in the img with 0.01 of precission and 10 of separation\n",
    "\n",
    "corners = np.int0(corners) # this will convert to integers the float values from the previous line\n",
    "\n",
    "for corner in corners:\n",
    "    x, y = corner.ravel()\n",
    "    cv2.circle(img, (x, y), 5, (255, 0, 0), -1)\n",
    "\n",
    "cv2.imshow('Frame', img)\n",
    "\n",
    "cv2.waitKey(0)\n",
    "cv2.destroyAllWindows()"
   ]
  },
  {
   "cell_type": "markdown",
   "id": "23454674",
   "metadata": {},
   "source": [
    "# Draw lines between corners"
   ]
  },
  {
   "cell_type": "code",
   "execution_count": 8,
   "id": "a3b96f44",
   "metadata": {},
   "outputs": [],
   "source": [
    "for i in range(len(corners)):\n",
    "    for j in range(len(corners)):\n",
    "        corner1 = tuple(corners[i][0])\n",
    "        corner2 = tuple(corners[j][0])\n",
    "        color = tuple(map(lambda x: int(x), np.random.randint(0, 255, size = 3)))\n",
    "        cv2.line(img, corner1, corner2, (color), 1)\n",
    "        \n",
    "cv2.imshow('Frame', img)\n",
    "\n",
    "cv2.waitKey(0)\n",
    "cv2.destroyAllWindows()"
   ]
  },
  {
   "cell_type": "code",
   "execution_count": null,
   "id": "0ed5cba5",
   "metadata": {},
   "outputs": [],
   "source": []
  }
 ],
 "metadata": {
  "kernelspec": {
   "display_name": "Python 3 (ipykernel)",
   "language": "python",
   "name": "python3"
  },
  "language_info": {
   "codemirror_mode": {
    "name": "ipython",
    "version": 3
   },
   "file_extension": ".py",
   "mimetype": "text/x-python",
   "name": "python",
   "nbconvert_exporter": "python",
   "pygments_lexer": "ipython3",
   "version": "3.9.12"
  }
 },
 "nbformat": 4,
 "nbformat_minor": 5
}
