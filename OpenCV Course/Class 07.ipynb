{
 "cells": [
  {
   "cell_type": "markdown",
   "id": "007b9b66",
   "metadata": {},
   "source": [
    "# Detect the ball in an image template (the ball is the same as the image)"
   ]
  },
  {
   "cell_type": "code",
   "execution_count": null,
   "id": "27526a31",
   "metadata": {},
   "outputs": [],
   "source": [
    "import numpy as np\n",
    "import cv2\n",
    "\n",
    "img = cv2.imread('images/soccer_practice.jpg', 0)\n",
    "\n",
    "template = cv2.imread('images/ball.png', 0)\n",
    "img2 = img.copy()\n",
    "\n",
    "h, w = template.shape\n",
    "\n",
    "\n",
    "\n",
    "methods = [cv2.TM_CCOEFF, cv2.TM_CCOEFF_NORMED, cv2.TM_CCORR,\n",
    "           cv2.TM_CCORR_NORMED, cv2.TM_SQDIFF, cv2.TM_SQDIFF_NORMED] # The code is going to use all these methods once we print, so we can see which one is the best\n",
    "\n",
    "for method in methods:\n",
    "    img2 = img.copy()\n",
    "    \n",
    "    result = cv2.matchTemplate(img2, template, method)\n",
    "    min_val, max_val, min_loc, max_loc = cv2.minMaxLoc(result)\n",
    "    if method in [cv2.TM_SQDIFF, cv2.TM_SQDIFF_NORMED]:\n",
    "        location = min_loc\n",
    "    else:\n",
    "        location = max_loc\n",
    "    \n",
    "    bottom_right = (location[0] + w, location[1] + h)\n",
    "    \n",
    "    cv2.rectangle(img2, location, bottom_right, 255, 5)\n",
    "    cv2.imshow('Match', img2)\n",
    "    cv2.waitKey(0)\n",
    "    cv2.destroyAllWindows()"
   ]
  },
  {
   "cell_type": "markdown",
   "id": "e791bf90",
   "metadata": {},
   "source": [
    "# To detect the shoe"
   ]
  },
  {
   "cell_type": "code",
   "execution_count": 10,
   "id": "e86addb6",
   "metadata": {},
   "outputs": [],
   "source": [
    "import numpy as np\n",
    "import cv2\n",
    "\n",
    "img = cv2.resize(cv2.imread('images/soccer_practice.jpg', 0), (0, 0), fx=0.7, fy=0.7)\n",
    "\n",
    "template = cv2.resize(cv2.imread('images/shoe.png', 0), (0, 0), fx=0.7, fy=0.7)\n",
    "img2 = img.copy()\n",
    "\n",
    "h, w = template.shape\n",
    "\n",
    "\n",
    "\n",
    "methods = [cv2.TM_CCOEFF, cv2.TM_CCOEFF_NORMED, cv2.TM_CCORR,\n",
    "           cv2.TM_CCORR_NORMED, cv2.TM_SQDIFF, cv2.TM_SQDIFF_NORMED] # The code is going to use all these methods once we print, so we can see which one is the best\n",
    "\n",
    "for method in methods:\n",
    "    img2 = img.copy()\n",
    "    \n",
    "    result = cv2.matchTemplate(img2, template, method)\n",
    "    min_val, max_val, min_loc, max_loc = cv2.minMaxLoc(result)\n",
    "    if method in [cv2.TM_SQDIFF, cv2.TM_SQDIFF_NORMED]:\n",
    "        location = min_loc\n",
    "    else:\n",
    "        location = max_loc\n",
    "    \n",
    "    bottom_right = (location[0] + w, location[1] + h)\n",
    "    \n",
    "    cv2.rectangle(img2, location, bottom_right, 255, 5)\n",
    "    cv2.imshow('Match', img2)\n",
    "    cv2.waitKey(0)\n",
    "    cv2.destroyAllWindows()"
   ]
  }
 ],
 "metadata": {
  "kernelspec": {
   "display_name": "Python 3 (ipykernel)",
   "language": "python",
   "name": "python3"
  },
  "language_info": {
   "codemirror_mode": {
    "name": "ipython",
    "version": 3
   },
   "file_extension": ".py",
   "mimetype": "text/x-python",
   "name": "python",
   "nbconvert_exporter": "python",
   "pygments_lexer": "ipython3",
   "version": "3.9.12"
  }
 },
 "nbformat": 4,
 "nbformat_minor": 5
}
