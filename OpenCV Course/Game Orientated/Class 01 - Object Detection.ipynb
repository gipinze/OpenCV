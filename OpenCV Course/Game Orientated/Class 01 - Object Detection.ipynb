{
 "cells": [
  {
   "cell_type": "code",
   "execution_count": 1,
   "id": "73dcaedf",
   "metadata": {},
   "outputs": [],
   "source": [
    "import cv2 as cv\n",
    "import numpy as np"
   ]
  },
  {
   "cell_type": "code",
   "execution_count": 6,
   "id": "63d2f4db",
   "metadata": {},
   "outputs": [],
   "source": [
    "haystack_img = cv.imread(\"Images/albion_farm.jpg\", cv.IMREAD_UNCHANGED)\n",
    "needle_img = cv.imread(\"Images/albion_cabbage.jpg\", cv.IMREAD_UNCHANGED)"
   ]
  },
  {
   "cell_type": "code",
   "execution_count": 7,
   "id": "115aed43",
   "metadata": {},
   "outputs": [],
   "source": [
    "result = cv.matchTemplate(haystack_img, needle_img, cv.TM_CCOEFF_NORMED)"
   ]
  },
  {
   "cell_type": "code",
   "execution_count": 9,
   "id": "79a988d2",
   "metadata": {},
   "outputs": [],
   "source": [
    "# Get the best match position\n",
    "\n",
    "min_val, max_val, min_loc, max_loc = cv.minMaxLoc(result)"
   ]
  },
  {
   "cell_type": "code",
   "execution_count": 10,
   "id": "b27a0aab",
   "metadata": {},
   "outputs": [
    {
     "name": "stdout",
     "output_type": "stream",
     "text": [
      "Best match top left position: (514, 483)\n",
      "Best match confidence: 0.9811137318611145\n"
     ]
    }
   ],
   "source": [
    "print('Best match top left position: %s' % str(max_loc))\n",
    "print('Best match confidence: %s' % max_val)"
   ]
  },
  {
   "cell_type": "code",
   "execution_count": 12,
   "id": "df9ebc02",
   "metadata": {},
   "outputs": [
    {
     "name": "stdout",
     "output_type": "stream",
     "text": [
      "Found needle.\n"
     ]
    }
   ],
   "source": [
    "# In order to verify that it gets the best/closest item to match our \"needle\" we create a threshold\n",
    "\n",
    "threshold = 0.8\n",
    "if max_val >= threshold:\n",
    "    print('Found needle.')\n",
    "    \n",
    "    # Draw rectangle where the \"needle\" is\n",
    "    \n",
    "    needle_w = needle_img.shape[1]\n",
    "    needle_h = needle_img.shape[0]\n",
    "    \n",
    "    top_left = max_loc\n",
    "    bottom_right = (top_left[0] + needle_w, top_left[1] + needle_h)\n",
    "    \n",
    "    cv.rectangle(haystack_img, top_left, bottom_right,\n",
    "                color = (0, 255, 0), thickness = 2, lineType = cv.LINE_4)\n",
    "    \n",
    "    cv.imshow('Result', haystack_img)\n",
    "    cv.waitKey()\n",
    "    \n",
    "else:\n",
    "    print('Needle not found.')"
   ]
  },
  {
   "cell_type": "markdown",
   "id": "9967ae7b",
   "metadata": {},
   "source": [
    "# Save the found image"
   ]
  },
  {
   "cell_type": "code",
   "execution_count": 14,
   "id": "8861e3a9",
   "metadata": {},
   "outputs": [
    {
     "data": {
      "text/plain": [
       "True"
      ]
     },
     "execution_count": 14,
     "metadata": {},
     "output_type": "execute_result"
    }
   ],
   "source": [
    "cv.imwrite(\"Images/result.jpg\", haystack_img)"
   ]
  }
 ],
 "metadata": {
  "kernelspec": {
   "display_name": "Python 3.9 (tensorflow)",
   "language": "python",
   "name": "tensorflow"
  },
  "language_info": {
   "codemirror_mode": {
    "name": "ipython",
    "version": 3
   },
   "file_extension": ".py",
   "mimetype": "text/x-python",
   "name": "python",
   "nbconvert_exporter": "python",
   "pygments_lexer": "ipython3",
   "version": "3.9.12"
  }
 },
 "nbformat": 4,
 "nbformat_minor": 5
}
