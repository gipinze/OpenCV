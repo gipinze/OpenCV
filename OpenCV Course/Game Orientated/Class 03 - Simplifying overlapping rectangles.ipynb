{
 "cells": [
  {
   "cell_type": "code",
   "execution_count": 2,
   "id": "de3d85bd",
   "metadata": {},
   "outputs": [],
   "source": [
    "import cv2 as cv\n",
    "import numpy as np\n",
    "import os"
   ]
  },
  {
   "cell_type": "code",
   "execution_count": 3,
   "id": "2e5afb5c",
   "metadata": {},
   "outputs": [
    {
     "name": "stdout",
     "output_type": "stream",
     "text": [
      "[(545, 507), (669, 517), (335, 548), (296, 656), (430, 669)]\n",
      "[(561, 128), (670, 131), (676, 235)]\n",
      "Done.\n"
     ]
    }
   ],
   "source": [
    "def findClickPositions(needle_img_path, haystack_img_path, threshold=0.5, debug_mode=None):\n",
    "        \n",
    "    # https://docs.opencv.org/4.2.0/d4/da8/group__imgcodecs.html\n",
    "    haystack_img = cv.imread(haystack_img_path, cv.IMREAD_UNCHANGED)\n",
    "    needle_img = cv.imread(needle_img_path, cv.IMREAD_UNCHANGED)\n",
    "    # Save the dimensions of the needle image\n",
    "    needle_w = needle_img.shape[1]\n",
    "    needle_h = needle_img.shape[0]\n",
    "\n",
    "    # There are 6 methods to choose from:\n",
    "    # TM_CCOEFF, TM_CCOEFF_NORMED, TM_CCORR, TM_CCORR_NORMED, TM_SQDIFF, TM_SQDIFF_NORMED\n",
    "    method = cv.TM_CCOEFF_NORMED\n",
    "    result = cv.matchTemplate(haystack_img, needle_img, method)\n",
    "\n",
    "    # Get the all the positions from the match result that exceed our threshold\n",
    "    locations = np.where(result >= threshold)\n",
    "    locations = list(zip(*locations[::-1]))\n",
    "    #print(locations)\n",
    "\n",
    "    # You'll notice a lot of overlapping rectangles get drawn. We can eliminate those redundant\n",
    "    # locations by using groupRectangles().\n",
    "    # First we need to create the list of [x, y, w, h] rectangles\n",
    "    \n",
    "    rectangles = []\n",
    "    for loc in locations:\n",
    "        rect = [int(loc[0]), int(loc[1]), needle_w, needle_h]\n",
    "        # Add every box to the list twice in order to retain single (non-overlapping) boxes\n",
    "        rectangles.append(rect)\n",
    "        rectangles.append(rect)\n",
    "        \n",
    "    # Apply group rectangles.\n",
    "    # The groupThreshold parameter should usually be 1. If you put it at 0 then no grouping is\n",
    "    # done. If you put it at 2 then an object needs at least 3 overlapping rectangles to appear\n",
    "    # in the result. I've set eps to 0.5, which is:\n",
    "    # \"Relative difference between sides of the rectangles to merge them into a group.\"\n",
    "    rectangles, weights = cv.groupRectangles(rectangles, groupThreshold=1, eps=0.5)\n",
    "    #print(rectangles)\n",
    "\n",
    "    points = []\n",
    "    if len(rectangles):\n",
    "        #print('Found needle.')\n",
    "\n",
    "        line_color = (0, 255, 0)\n",
    "        line_type = cv.LINE_4\n",
    "        marker_color = (255, 0, 255)\n",
    "        marker_type = cv.MARKER_CROSS\n",
    "\n",
    "        # Loop over all the rectangles\n",
    "        for (x, y, w, h) in rectangles:\n",
    "\n",
    "            # Determine the center position\n",
    "            center_x = x + int(w/2)\n",
    "            center_y = y + int(h/2)\n",
    "            # Save the points\n",
    "            points.append((center_x, center_y))\n",
    "\n",
    "            if debug_mode == 'rectangles':\n",
    "                # Determine the box position\n",
    "                top_left = (x, y)\n",
    "                bottom_right = (x + w, y + h)\n",
    "                # Draw the box\n",
    "                cv.rectangle(haystack_img, top_left, bottom_right, color=line_color, \n",
    "                             lineType=line_type, thickness=2)\n",
    "            elif debug_mode == 'points':\n",
    "                # Draw the center point\n",
    "                cv.drawMarker(haystack_img, (center_x, center_y), \n",
    "                              color=marker_color, markerType=marker_type, \n",
    "                              markerSize=40, thickness=2)\n",
    "\n",
    "        if debug_mode:\n",
    "            cv.imshow('Matches', haystack_img)\n",
    "            cv.waitKey()\n",
    "            #cv.imwrite('result_click_point.jpg', haystack_img)\n",
    "\n",
    "    return points\n",
    "\n",
    "\n",
    "points = findClickPositions('Images/albion_cabbage.jpg', 'Images/albion_farm.jpg', debug_mode='points')\n",
    "print(points)\n",
    "\n",
    "points = findClickPositions('Images/albion_turnip.jpg', 'Images/albion_farm.jpg', \n",
    "                            threshold=0.70, debug_mode='rectangles')\n",
    "print(points)\n",
    "print('Done.')"
   ]
  },
  {
   "cell_type": "code",
   "execution_count": null,
   "id": "ebaf70b8",
   "metadata": {},
   "outputs": [],
   "source": []
  }
 ],
 "metadata": {
  "kernelspec": {
   "display_name": "Python 3.9 (tensorflow)",
   "language": "python",
   "name": "tensorflow"
  },
  "language_info": {
   "codemirror_mode": {
    "name": "ipython",
    "version": 3
   },
   "file_extension": ".py",
   "mimetype": "text/x-python",
   "name": "python",
   "nbconvert_exporter": "python",
   "pygments_lexer": "ipython3",
   "version": "3.9.12"
  }
 },
 "nbformat": 4,
 "nbformat_minor": 5
}
